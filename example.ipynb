{
 "cells": [
  {
   "cell_type": "markdown",
   "metadata": {
    "collapsed": false,
    "hide_input": false,
    "slideshow": {
     "slide_type": "slide"
    }
   },
   "source": [
    "# Example\n",
    "This is an example notebook with egal drawings."
   ]
  },
  {
   "cell_type": "raw",
   "metadata": {
    "egal_id": "319B1A1110764C4FBE91FCBD84C69735",
    "hide_egal": false,
    "is_egal": true,
    "slideshow": {
     "slide_type": "slide"
    }
   },
   "source": [
    "<svg height=\"250\" width=\"100%\"><line x1=\"466.578125\" x2=\"531.578125\" y1=\"103.015625\" y2=\"102.015625\" stroke=\"#000000\" data-n1=\"drup_elem_2_endpoint_3\" style=\"marker-end: url(&quot;#markerSixhpxwpo7&quot;);\" class=\"drupElem\" data-n2=\"drup_elem_3_endpoint_2\"></line><line x1=\"302.578125\" x2=\"358.578125\" y1=\"111.015625\" y2=\"103.015625\" stroke=\"#000000\" data-n1=\"drup_elem_4_endpoint_3\" style=\"marker-end: url(&quot;#markerSixhpxwpo7&quot;);\" class=\"drupElem\" data-n2=\"drup_elem_2_endpoint_2\"></line><line x1=\"160.578125\" x2=\"193.578125\" y1=\"125.015625\" y2=\"111.015625\" stroke=\"#000000\" data-n1=\"drup_elem_1_endpoint_3\" style=\"marker-end: url(&quot;#markerSixhpxwpo7&quot;);\" class=\"drupElem\" data-n2=\"drup_elem_4_endpoint_2\"></line><desc>Created with Snap</desc><defs><filter id=\"Sixhpdg6r1r\" filterUnits=\"userSpaceOnUse\"><feGaussianBlur in=\"SourceAlpha\" stdDeviation=\"3\"></feGaussianBlur><feOffset dx=\"0\" dy=\"2\" result=\"offsetblur\"></feOffset><feFlood flood-color=\"#000000\"></feFlood><feComposite in2=\"offsetblur\" operator=\"in\"></feComposite><feComponentTransfer><feFuncA type=\"linear\" slope=\"1\"></feFuncA></feComponentTransfer><feMerge><feMergeNode></feMergeNode><feMergeNode in=\"SourceGraphic\"></feMergeNode></feMerge></filter><marker viewBox=\"0 0 10 10\" markerWidth=\"10\" markerHeight=\"10\" orient=\"auto\" refX=\"9\" refY=\"3\" id=\"markerSixhpdg6r1v\"><polygon points=\"0,0,0,6,9,3,0,0\" fill=\"#323232\"></polygon></marker><filter id=\"Sixhprh8n3\" filterUnits=\"userSpaceOnUse\"><feGaussianBlur in=\"SourceAlpha\" stdDeviation=\"3\"></feGaussianBlur><feOffset dx=\"0\" dy=\"2\" result=\"offsetblur\"></feOffset><feFlood flood-color=\"#000000\"></feFlood><feComposite in2=\"offsetblur\" operator=\"in\"></feComposite><feComponentTransfer><feFuncA type=\"linear\" slope=\"1\"></feFuncA></feComponentTransfer><feMerge><feMergeNode></feMergeNode><feMergeNode in=\"SourceGraphic\"></feMergeNode></feMerge></filter><marker viewBox=\"0 0 10 10\" markerWidth=\"10\" markerHeight=\"10\" orient=\"auto\" refX=\"9\" refY=\"3\" id=\"markerSixhprh8n7\"><polygon points=\"0,0,0,6,9,3,0,0\" fill=\"#323232\"></polygon></marker><filter id=\"Sixhpxwpo3\" filterUnits=\"userSpaceOnUse\"><feGaussianBlur in=\"SourceAlpha\" stdDeviation=\"3\"></feGaussianBlur><feOffset dx=\"0\" dy=\"2\" result=\"offsetblur\"></feOffset><feFlood flood-color=\"#000000\"></feFlood><feComposite in2=\"offsetblur\" operator=\"in\"></feComposite><feComponentTransfer><feFuncA type=\"linear\" slope=\"1\"></feFuncA></feComponentTransfer><feMerge><feMergeNode></feMergeNode><feMergeNode in=\"SourceGraphic\"></feMergeNode></feMerge></filter><marker viewBox=\"0 0 10 10\" markerWidth=\"10\" markerHeight=\"10\" orient=\"auto\" refX=\"9\" refY=\"3\" id=\"markerSixhpxwpo7\"><polygon points=\"0,0,0,6,9,3,0,0\" fill=\"#323232\"></polygon></marker></defs><g id=\"drup_elem_1\" class=\"drupElem\"><circle cx=\"101.578125\" cy=\"125.015625\" r=\"59\" vector-effect=\"non-scaling-stroke\" fill=\"#d3d3d3\" stroke=\"#000000\" style=\"stroke-width: 1;\" class=\"core egal-select\"></circle><circle cx=\"101.578125\" cy=\"66.015625\" r=\"5\" stroke=\"#000000\" fill=\"#ffffff\" id=\"drup_elem_1_endpoint_0\" style=\"stroke-width: 1; opacity: 0;\" class=\"endPoint up\"></circle><circle cx=\"101.578125\" cy=\"184.015625\" r=\"5\" stroke=\"#000000\" fill=\"#ffffff\" id=\"drup_elem_1_endpoint_1\" style=\"stroke-width: 1; opacity: 0;\" class=\"endPoint down\"></circle><circle cx=\"42.578125\" cy=\"125.015625\" r=\"5\" stroke=\"#000000\" fill=\"#ffffff\" id=\"drup_elem_1_endpoint_2\" style=\"stroke-width: 1; opacity: 0;\" class=\"endPoint left\"></circle><circle cx=\"160.578125\" cy=\"125.015625\" r=\"5\" stroke=\"#000000\" fill=\"#ffffff\" id=\"drup_elem_1_endpoint_3\" style=\"stroke-width: 1; opacity: 0;\" class=\"endPoint right\"></circle><text x=\"101.578125\" y=\"125.015625\" style=\"font-size: 20px; text-anchor: middle; alignment-baseline: central;\" class=\"label\">Test 2</text></g><g id=\"drup_elem_2\" class=\"drupElem\"><circle cx=\"278.578125\" cy=\"129.015625\" r=\"54\" vector-effect=\"non-scaling-stroke\" fill=\"#ffa500\" stroke=\"#000000\" style=\"stroke-width: 1;\" class=\"core\" transform=\"matrix(1,0,0,1,134,-26)\"></circle><circle cx=\"278.578125\" cy=\"75.015625\" r=\"5\" stroke=\"#000000\" fill=\"#ffffff\" id=\"drup_elem_2_endpoint_0\" style=\"stroke-width: 1; opacity: 0;\" class=\"endPoint up\" transform=\"matrix(1,0,0,1,134,-26)\"></circle><circle cx=\"278.578125\" cy=\"183.015625\" r=\"5\" stroke=\"#000000\" fill=\"#ffffff\" id=\"drup_elem_2_endpoint_1\" style=\"stroke-width: 1; opacity: 0;\" class=\"endPoint down\" transform=\"matrix(1,0,0,1,134,-26)\"></circle><circle cx=\"224.578125\" cy=\"129.015625\" r=\"5\" stroke=\"#000000\" fill=\"#ffffff\" id=\"drup_elem_2_endpoint_2\" style=\"stroke-width: 1; opacity: 0;\" class=\"endPoint left\" transform=\"matrix(1,0,0,1,134,-26)\"></circle><circle cx=\"332.578125\" cy=\"129.015625\" r=\"5\" stroke=\"#000000\" fill=\"#ffffff\" id=\"drup_elem_2_endpoint_3\" style=\"stroke-width: 1; opacity: 0;\" class=\"endPoint right\" transform=\"matrix(1,0,0,1,134,-26)\"></circle><text x=\"278.578125\" y=\"129.015625\" style=\"font-size: 20px; text-anchor: middle; alignment-baseline: central;\" class=\"label\" transform=\"matrix(1,0,0,1,134,-26)\">A</text></g><g id=\"drup_elem_3\" class=\"drupElem\"><circle cx=\"372.578125\" cy=\"111.015625\" r=\"39\" vector-effect=\"non-scaling-stroke\" fill=\"#ffffff\" stroke=\"#000000\" style=\"stroke-width: 1;\" class=\"core\" transform=\"matrix(1,0,0,1,198,-9)\"></circle><circle cx=\"372.578125\" cy=\"72.015625\" r=\"5\" stroke=\"#000000\" fill=\"#ffffff\" id=\"drup_elem_3_endpoint_0\" style=\"stroke-width: 1; opacity: 0;\" class=\"endPoint up\" transform=\"matrix(1,0,0,1,198,-9)\"></circle><circle cx=\"372.578125\" cy=\"150.015625\" r=\"5\" stroke=\"#000000\" fill=\"#ffffff\" id=\"drup_elem_3_endpoint_1\" style=\"stroke-width: 1; opacity: 0;\" class=\"endPoint down\" transform=\"matrix(1,0,0,1,198,-9)\"></circle><circle cx=\"333.578125\" cy=\"111.015625\" r=\"5\" stroke=\"#000000\" fill=\"#ffffff\" id=\"drup_elem_3_endpoint_2\" style=\"stroke-width: 1; opacity: 0;\" class=\"endPoint left\" transform=\"matrix(1,0,0,1,198,-9)\"></circle><circle cx=\"411.578125\" cy=\"111.015625\" r=\"5\" stroke=\"#000000\" fill=\"#ffffff\" id=\"drup_elem_3_endpoint_3\" style=\"stroke-width: 1; opacity: 0;\" class=\"endPoint right\" transform=\"matrix(1,0,0,1,198,-9)\"></circle><text x=\"372.578125\" y=\"111.015625\" style=\"font-size: 20px; text-anchor: middle; alignment-baseline: central;\" class=\"label\" transform=\"matrix(1,0,0,1,198,-9)\">B</text></g><g id=\"drup_elem_4\" class=\"drupElem\"><rect x=\"211.578125\" y=\"6.015625\" width=\"109\" height=\"52\" fill=\"#ffffff\" stroke=\"#000000\" vector-effect=\"non-scaling-stroke\" style=\"stroke-width: 1;\" class=\"core\" transform=\"matrix(1,0,0,1,-18,79)\"></rect><circle cx=\"266.078125\" cy=\"6.015625\" r=\"5\" stroke=\"#000000\" fill=\"#ffffff\" id=\"drup_elem_4_endpoint_0\" style=\"stroke-width: 1; opacity: 0;\" class=\"endPoint up\" transform=\"matrix(1,0,0,1,-18,79)\"></circle><circle cx=\"266.078125\" cy=\"58.015625\" r=\"5\" stroke=\"#000000\" fill=\"#ffffff\" id=\"drup_elem_4_endpoint_1\" style=\"stroke-width: 1; opacity: 0;\" class=\"endPoint down\" transform=\"matrix(1,0,0,1,-18,79)\"></circle><circle cx=\"211.578125\" cy=\"32.015625\" r=\"5\" stroke=\"#000000\" fill=\"#ffffff\" id=\"drup_elem_4_endpoint_2\" style=\"stroke-width: 1; opacity: 0;\" class=\"endPoint left\" transform=\"matrix(1,0,0,1,-18,79)\"></circle><circle cx=\"320.578125\" cy=\"32.015625\" r=\"5\" stroke=\"#000000\" fill=\"#ffffff\" id=\"drup_elem_4_endpoint_3\" style=\"stroke-width: 1; opacity: 0;\" class=\"endPoint right\" transform=\"matrix(1,0,0,1,-18,79)\"></circle><circle cx=\"211.578125\" cy=\"6.015625\" r=\"5\" stroke=\"#000000\" fill=\"#ffffff\" id=\"drup_elem_4_endpoint_4\" style=\"stroke-width: 1; opacity: 0;\" class=\"endPoint left-up\" transform=\"matrix(1,0,0,1,-18,79)\"></circle><circle cx=\"211.578125\" cy=\"58.015625\" r=\"5\" stroke=\"#000000\" fill=\"#ffffff\" id=\"drup_elem_4_endpoint_5\" style=\"stroke-width: 1; opacity: 0;\" class=\"endPoint left-down\" transform=\"matrix(1,0,0,1,-18,79)\"></circle><circle cx=\"320.578125\" cy=\"6.015625\" r=\"5\" stroke=\"#000000\" fill=\"#ffffff\" id=\"drup_elem_4_endpoint_6\" style=\"stroke-width: 1; opacity: 0;\" class=\"endPoint right-up\" transform=\"matrix(1,0,0,1,-18,79)\"></circle><circle cx=\"320.578125\" cy=\"58.015625\" r=\"5\" stroke=\"#000000\" fill=\"#ffffff\" id=\"drup_elem_4_endpoint_7\" style=\"stroke-width: 1; opacity: 0;\" class=\"endPoint right-down\" transform=\"matrix(1,0,0,1,-18,79)\"></circle><text x=\"266.078125\" y=\"32.015625\" style=\"font-size: 20px; text-anchor: middle; alignment-baseline: central;\" class=\"label\" transform=\"matrix(1,0,0,1,-18,79)\">Test 1</text></g></svg>"
   ]
  },
  {
   "cell_type": "markdown",
   "metadata": {
    "slideshow": {
     "slide_type": "subslide"
    }
   },
   "source": [
    "## Wow!\n",
    "This is insane"
   ]
  },
  {
   "cell_type": "raw",
   "metadata": {
    "egal_id": "E766FD98133D41BD8E574C3327A2E73A",
    "hide_egal": true,
    "is_egal": true,
    "slideshow": {
     "slide_type": "slide"
    }
   },
   "source": [
    "<svg height=\"250\" width=\"100%\"><line x1=\"177.578125\" x2=\"463.578125\" y1=\"68.53125\" y2=\"72.03125\" stroke=\"#000000\" data-n1=\"drup_elem_1_endpoint_3\" style=\"marker-end: url(&quot;#markerSixhpdg6r23&quot;);\" class=\"drupElem\" data-n2=\"drup_elem_2_endpoint_2\"></line><desc>Created with Snap</desc><defs><filter id=\"Sixhpdg6r1z\" filterUnits=\"userSpaceOnUse\"><feGaussianBlur in=\"SourceAlpha\" stdDeviation=\"3\"></feGaussianBlur><feOffset dx=\"0\" dy=\"2\" result=\"offsetblur\"></feOffset><feFlood flood-color=\"#000000\"></feFlood><feComposite in2=\"offsetblur\" operator=\"in\"></feComposite><feComponentTransfer><feFuncA type=\"linear\" slope=\"1\"></feFuncA></feComponentTransfer><feMerge><feMergeNode></feMergeNode><feMergeNode in=\"SourceGraphic\"></feMergeNode></feMerge></filter><marker viewBox=\"0 0 10 10\" markerWidth=\"10\" markerHeight=\"10\" orient=\"auto\" refX=\"9\" refY=\"3\" id=\"markerSixhpdg6r23\"><polygon points=\"0,0,0,6,9,3,0,0\" fill=\"#323232\"></polygon></marker></defs><g id=\"drup_elem_1\" class=\"drupElem\"><rect x=\"97.578125\" y=\"34.03125\" width=\"80\" height=\"69\" fill=\"#ffffff\" stroke=\"#000000\" vector-effect=\"non-scaling-stroke\" style=\"stroke-width: 1;\" class=\"core\"></rect><circle cx=\"137.578125\" cy=\"34.03125\" r=\"5\" stroke=\"#000000\" fill=\"#ffffff\" id=\"drup_elem_1_endpoint_0\" style=\"stroke-width: 1; opacity: 0;\" class=\"endPoint up\"></circle><circle cx=\"137.578125\" cy=\"103.03125\" r=\"5\" stroke=\"#000000\" fill=\"#ffffff\" id=\"drup_elem_1_endpoint_1\" style=\"stroke-width: 1; opacity: 0;\" class=\"endPoint down\"></circle><circle cx=\"97.578125\" cy=\"68.53125\" r=\"5\" stroke=\"#000000\" fill=\"#ffffff\" id=\"drup_elem_1_endpoint_2\" style=\"stroke-width: 1; opacity: 0;\" class=\"endPoint left\"></circle><circle cx=\"177.578125\" cy=\"68.53125\" r=\"5\" stroke=\"#000000\" fill=\"#ffffff\" id=\"drup_elem_1_endpoint_3\" style=\"stroke-width: 1; opacity: 0;\" class=\"endPoint right\"></circle><circle cx=\"97.578125\" cy=\"34.03125\" r=\"5\" stroke=\"#000000\" fill=\"#ffffff\" id=\"drup_elem_1_endpoint_4\" style=\"stroke-width: 1; opacity: 0;\" class=\"endPoint left-up\"></circle><circle cx=\"97.578125\" cy=\"103.03125\" r=\"5\" stroke=\"#000000\" fill=\"#ffffff\" id=\"drup_elem_1_endpoint_5\" style=\"stroke-width: 1; opacity: 0;\" class=\"endPoint left-down\"></circle><circle cx=\"177.578125\" cy=\"34.03125\" r=\"5\" stroke=\"#000000\" fill=\"#ffffff\" id=\"drup_elem_1_endpoint_6\" style=\"stroke-width: 1; opacity: 0;\" class=\"endPoint right-up\"></circle><circle cx=\"177.578125\" cy=\"103.03125\" r=\"5\" stroke=\"#000000\" fill=\"#ffffff\" id=\"drup_elem_1_endpoint_7\" style=\"stroke-width: 1; opacity: 0;\" class=\"endPoint right-down\"></circle><text x=\"137.578125\" y=\"68.53125\" class=\"label\"></text></g><g id=\"drup_elem_2\" class=\"drupElem\"><rect x=\"463.578125\" y=\"42.03125\" width=\"95\" height=\"60\" fill=\"#ffffff\" stroke=\"#000000\" vector-effect=\"non-scaling-stroke\" style=\"stroke-width: 1;\" class=\"core\"></rect><circle cx=\"511.078125\" cy=\"42.03125\" r=\"5\" stroke=\"#000000\" fill=\"#ffffff\" id=\"drup_elem_2_endpoint_0\" style=\"stroke-width: 1; opacity: 0;\" class=\"endPoint up\"></circle><circle cx=\"511.078125\" cy=\"102.03125\" r=\"5\" stroke=\"#000000\" fill=\"#ffffff\" id=\"drup_elem_2_endpoint_1\" style=\"stroke-width: 1; opacity: 0;\" class=\"endPoint down\"></circle><circle cx=\"463.578125\" cy=\"72.03125\" r=\"5\" stroke=\"#000000\" fill=\"#ffffff\" id=\"drup_elem_2_endpoint_2\" style=\"stroke-width: 1; opacity: 0;\" class=\"endPoint left\"></circle><circle cx=\"558.578125\" cy=\"72.03125\" r=\"5\" stroke=\"#000000\" fill=\"#ffffff\" id=\"drup_elem_2_endpoint_3\" style=\"stroke-width: 1; opacity: 0;\" class=\"endPoint right\"></circle><circle cx=\"463.578125\" cy=\"42.03125\" r=\"5\" stroke=\"#000000\" fill=\"#ffffff\" id=\"drup_elem_2_endpoint_4\" style=\"stroke-width: 1; opacity: 0;\" class=\"endPoint left-up\"></circle><circle cx=\"463.578125\" cy=\"102.03125\" r=\"5\" stroke=\"#000000\" fill=\"#ffffff\" id=\"drup_elem_2_endpoint_5\" style=\"stroke-width: 1; opacity: 0;\" class=\"endPoint left-down\"></circle><circle cx=\"558.578125\" cy=\"42.03125\" r=\"5\" stroke=\"#000000\" fill=\"#ffffff\" id=\"drup_elem_2_endpoint_6\" style=\"stroke-width: 1; opacity: 0;\" class=\"endPoint right-up\"></circle><circle cx=\"558.578125\" cy=\"102.03125\" r=\"5\" stroke=\"#000000\" fill=\"#ffffff\" id=\"drup_elem_2_endpoint_7\" style=\"stroke-width: 1; opacity: 0;\" class=\"endPoint right-down\"></circle><text x=\"511.078125\" y=\"72.03125\" class=\"label\"></text></g></svg>"
   ]
  }
 ],
 "metadata": {
  "celltoolbar": "Slideshow",
  "kernelspec": {
   "display_name": "Python 3",
   "language": "python",
   "name": "python3"
  },
  "language_info": {
   "codemirror_mode": {
    "name": "ipython",
    "version": 3
   },
   "file_extension": ".py",
   "mimetype": "text/x-python",
   "name": "python",
   "nbconvert_exporter": "python",
   "pygments_lexer": "ipython3",
   "version": "3.5.1"
  }
 },
 "nbformat": 4,
 "nbformat_minor": 0
}
