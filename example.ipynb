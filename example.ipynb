{
 "cells": [
  {
   "cell_type": "markdown",
   "metadata": {
    "collapsed": false,
    "hide_input": false,
    "slideshow": {
     "slide_type": "slide"
    }
   },
   "source": [
    "# Example\n",
    "This is an example notebook with egal drawings."
   ]
  },
  {
   "cell_type": "raw",
   "metadata": {
    "egal_id": "319B1A1110764C4FBE91FCBD84C69735",
    "hide_egal": true,
    "is_egal": true,
    "slideshow": {
     "slide_type": "slide"
    }
   },
   "source": [
    "<svg height=\"250\" width=\"100%\"><line x1=\"156.578125\" x2=\"328.578125\" y1=\"89.515625\" y2=\"86.015625\" stroke=\"#000000\" data-n1=\"drup_elem_2_endpoint_3\" style=\"marker-end: url(&quot;#markerSixhpdg6r1v&quot;);\" class=\"drupElem\" data-n2=\"drup_elem_1_endpoint_2\"></line><desc>Created with Snap</desc><defs><filter id=\"Sixhpdg6r1r\" filterUnits=\"userSpaceOnUse\"><feGaussianBlur in=\"SourceAlpha\" stdDeviation=\"3\"></feGaussianBlur><feOffset dx=\"0\" dy=\"2\" result=\"offsetblur\"></feOffset><feFlood flood-color=\"#000000\"></feFlood><feComposite in2=\"offsetblur\" operator=\"in\"></feComposite><feComponentTransfer><feFuncA type=\"linear\" slope=\"1\"></feFuncA></feComponentTransfer><feMerge><feMergeNode></feMergeNode><feMergeNode in=\"SourceGraphic\"></feMergeNode></feMerge></filter><marker viewBox=\"0 0 10 10\" markerWidth=\"10\" markerHeight=\"10\" orient=\"auto\" refX=\"9\" refY=\"3\" id=\"markerSixhpdg6r1v\"><polygon points=\"0,0,0,6,9,3,0,0\" fill=\"#323232\"></polygon></marker><filter id=\"Sixhprh8n3\" filterUnits=\"userSpaceOnUse\"><feGaussianBlur in=\"SourceAlpha\" stdDeviation=\"3\"></feGaussianBlur><feOffset dx=\"0\" dy=\"2\" result=\"offsetblur\"></feOffset><feFlood flood-color=\"#000000\"></feFlood><feComposite in2=\"offsetblur\" operator=\"in\"></feComposite><feComponentTransfer><feFuncA type=\"linear\" slope=\"1\"></feFuncA></feComponentTransfer><feMerge><feMergeNode></feMergeNode><feMergeNode in=\"SourceGraphic\"></feMergeNode></feMerge></filter><marker viewBox=\"0 0 10 10\" markerWidth=\"10\" markerHeight=\"10\" orient=\"auto\" refX=\"9\" refY=\"3\" id=\"markerSixhprh8n7\"><polygon points=\"0,0,0,6,9,3,0,0\" fill=\"#323232\"></polygon></marker></defs><g id=\"drup_elem_1\" class=\"drupElem\"><circle cx=\"376.578125\" cy=\"113.015625\" r=\"71\" vector-effect=\"non-scaling-stroke\" fill=\"#ffa500\" stroke=\"#000000\" style=\"stroke-width: 1;\" class=\"core\" transform=\"matrix(1,0,0,1,23,-27)\"></circle><circle cx=\"376.578125\" cy=\"42.015625\" r=\"5\" stroke=\"#000000\" fill=\"#ffffff\" id=\"drup_elem_1_endpoint_0\" style=\"stroke-width: 1; opacity: 0;\" class=\"endPoint up\" transform=\"matrix(1,0,0,1,23,-27)\"></circle><circle cx=\"376.578125\" cy=\"184.015625\" r=\"5\" stroke=\"#000000\" fill=\"#ffffff\" id=\"drup_elem_1_endpoint_1\" style=\"stroke-width: 1; opacity: 0;\" class=\"endPoint down\" transform=\"matrix(1,0,0,1,23,-27)\"></circle><circle cx=\"305.578125\" cy=\"113.015625\" r=\"5\" stroke=\"#000000\" fill=\"#ffffff\" id=\"drup_elem_1_endpoint_2\" style=\"stroke-width: 1; opacity: 0;\" class=\"endPoint left\" transform=\"matrix(1,0,0,1,23,-27)\"></circle><circle cx=\"447.578125\" cy=\"113.015625\" r=\"5\" stroke=\"#000000\" fill=\"#ffffff\" id=\"drup_elem_1_endpoint_3\" style=\"stroke-width: 1; opacity: 0;\" class=\"endPoint right\" transform=\"matrix(1,0,0,1,23,-27)\"></circle><text x=\"376.578125\" y=\"113.015625\" class=\"label\" style=\"text-anchor: middle; alignment-baseline: central;\" transform=\"matrix(1,0,0,1,23,-27)\">Test 2</text></g><g id=\"drup_elem_2\" class=\"drupElem\"><rect x=\"46.578125\" y=\"26.015625\" width=\"106\" height=\"97\" fill=\"#d3d3d3\" stroke=\"#000000\" vector-effect=\"non-scaling-stroke\" style=\"stroke-width: 1;\" class=\"core egal-select\" transform=\"matrix(1,0,0,1,4,15)\"></rect><circle cx=\"99.578125\" cy=\"26.015625\" r=\"5\" stroke=\"#000000\" fill=\"#ffffff\" id=\"drup_elem_2_endpoint_0\" style=\"stroke-width: 1; opacity: 0;\" class=\"endPoint up\" transform=\"matrix(1,0,0,1,4,15)\"></circle><circle cx=\"99.578125\" cy=\"123.015625\" r=\"5\" stroke=\"#000000\" fill=\"#ffffff\" id=\"drup_elem_2_endpoint_1\" style=\"stroke-width: 1; opacity: 0;\" class=\"endPoint down\" transform=\"matrix(1,0,0,1,4,15)\"></circle><circle cx=\"46.578125\" cy=\"74.515625\" r=\"5\" stroke=\"#000000\" fill=\"#ffffff\" id=\"drup_elem_2_endpoint_2\" style=\"stroke-width: 1; opacity: 0;\" class=\"endPoint left\" transform=\"matrix(1,0,0,1,4,15)\"></circle><circle cx=\"152.578125\" cy=\"74.515625\" r=\"5\" stroke=\"#000000\" fill=\"#ffffff\" id=\"drup_elem_2_endpoint_3\" style=\"stroke-width: 1; opacity: 0;\" class=\"endPoint right\" transform=\"matrix(1,0,0,1,4,15)\"></circle><circle cx=\"46.578125\" cy=\"26.015625\" r=\"5\" stroke=\"#000000\" fill=\"#ffffff\" id=\"drup_elem_2_endpoint_4\" style=\"stroke-width: 1; opacity: 0;\" class=\"endPoint left-up\" transform=\"matrix(1,0,0,1,4,15)\"></circle><circle cx=\"46.578125\" cy=\"123.015625\" r=\"5\" stroke=\"#000000\" fill=\"#ffffff\" id=\"drup_elem_2_endpoint_5\" style=\"stroke-width: 1; opacity: 0;\" class=\"endPoint left-down\" transform=\"matrix(1,0,0,1,4,15)\"></circle><circle cx=\"152.578125\" cy=\"26.015625\" r=\"5\" stroke=\"#000000\" fill=\"#ffffff\" id=\"drup_elem_2_endpoint_6\" style=\"stroke-width: 1; opacity: 0;\" class=\"endPoint right-up\" transform=\"matrix(1,0,0,1,4,15)\"></circle><circle cx=\"152.578125\" cy=\"123.015625\" r=\"5\" stroke=\"#000000\" fill=\"#ffffff\" id=\"drup_elem_2_endpoint_7\" style=\"stroke-width: 1; opacity: 0;\" class=\"endPoint right-down\" transform=\"matrix(1,0,0,1,4,15)\"></circle><text x=\"99.578125\" y=\"74.515625\" class=\"label\" style=\"text-anchor: middle; alignment-baseline: central;\" transform=\"matrix(1,0,0,1,4,15)\">Test 1</text></g><g id=\"drup_elem_4\" class=\"drupElem\"><rect x=\"565.578125\" y=\"37.015625\" width=\"131\" height=\"78\" fill=\"#ffffff\" stroke=\"#000000\" vector-effect=\"non-scaling-stroke\" style=\"stroke-width: 1;\" class=\"core egal-select\" transform=\"matrix(1,0,0,1,-39,7)\"></rect><circle cx=\"631.078125\" cy=\"37.015625\" r=\"5\" stroke=\"#000000\" fill=\"#ffffff\" id=\"drup_elem_4_endpoint_0\" style=\"stroke-width: 1; opacity: 0;\" class=\"endPoint up\" transform=\"matrix(1,0,0,1,-39,7)\"></circle><circle cx=\"631.078125\" cy=\"115.015625\" r=\"5\" stroke=\"#000000\" fill=\"#ffffff\" id=\"drup_elem_4_endpoint_1\" style=\"stroke-width: 1; opacity: 0;\" class=\"endPoint down\" transform=\"matrix(1,0,0,1,-39,7)\"></circle><circle cx=\"565.578125\" cy=\"76.015625\" r=\"5\" stroke=\"#000000\" fill=\"#ffffff\" id=\"drup_elem_4_endpoint_2\" style=\"stroke-width: 1; opacity: 0;\" class=\"endPoint left\" transform=\"matrix(1,0,0,1,-39,7)\"></circle><circle cx=\"696.578125\" cy=\"76.015625\" r=\"5\" stroke=\"#000000\" fill=\"#ffffff\" id=\"drup_elem_4_endpoint_3\" style=\"stroke-width: 1; opacity: 0;\" class=\"endPoint right\" transform=\"matrix(1,0,0,1,-39,7)\"></circle><circle cx=\"565.578125\" cy=\"37.015625\" r=\"5\" stroke=\"#000000\" fill=\"#ffffff\" id=\"drup_elem_4_endpoint_4\" style=\"stroke-width: 1; opacity: 0;\" class=\"endPoint left-up\" transform=\"matrix(1,0,0,1,-39,7)\"></circle><circle cx=\"565.578125\" cy=\"115.015625\" r=\"5\" stroke=\"#000000\" fill=\"#ffffff\" id=\"drup_elem_4_endpoint_5\" style=\"stroke-width: 1; opacity: 0;\" class=\"endPoint left-down\" transform=\"matrix(1,0,0,1,-39,7)\"></circle><circle cx=\"696.578125\" cy=\"37.015625\" r=\"5\" stroke=\"#000000\" fill=\"#ffffff\" id=\"drup_elem_4_endpoint_6\" style=\"stroke-width: 1; opacity: 0;\" class=\"endPoint right-up\" transform=\"matrix(1,0,0,1,-39,7)\"></circle><circle cx=\"696.578125\" cy=\"115.015625\" r=\"5\" stroke=\"#000000\" fill=\"#ffffff\" id=\"drup_elem_4_endpoint_7\" style=\"stroke-width: 1; opacity: 0;\" class=\"endPoint right-down\" transform=\"matrix(1,0,0,1,-39,7)\"></circle><text x=\"631.078125\" y=\"76.015625\" style=\"font-size: 20px; text-anchor: middle; alignment-baseline: central;\" class=\"label\" transform=\"matrix(1,0,0,1,-39,7)\">Blah</text></g><g id=\"drup_elem_5\" class=\"drupElem\"><rect x=\"696.578125\" y=\"37.015625\" width=\"135\" height=\"68\" fill=\"#ffffff\" stroke=\"#000000\" vector-effect=\"non-scaling-stroke\" style=\"stroke-width: 1;\" class=\"core\" transform=\"matrix(1,0,0,1,30,13)\"></rect><circle cx=\"764.078125\" cy=\"37.015625\" r=\"5\" stroke=\"#000000\" fill=\"#ffffff\" id=\"drup_elem_5_endpoint_0\" style=\"stroke-width: 1; opacity: 0;\" class=\"endPoint up\" transform=\"matrix(1,0,0,1,30,13)\"></circle><circle cx=\"764.078125\" cy=\"105.015625\" r=\"5\" stroke=\"#000000\" fill=\"#ffffff\" id=\"drup_elem_5_endpoint_1\" style=\"stroke-width: 1; opacity: 0;\" class=\"endPoint down\" transform=\"matrix(1,0,0,1,30,13)\"></circle><circle cx=\"696.578125\" cy=\"71.015625\" r=\"5\" stroke=\"#000000\" fill=\"#ffffff\" id=\"drup_elem_5_endpoint_2\" style=\"stroke-width: 1; opacity: 0;\" class=\"endPoint left\" transform=\"matrix(1,0,0,1,30,13)\"></circle><circle cx=\"831.578125\" cy=\"71.015625\" r=\"5\" stroke=\"#000000\" fill=\"#ffffff\" id=\"drup_elem_5_endpoint_3\" style=\"stroke-width: 1; opacity: 0;\" class=\"endPoint right\" transform=\"matrix(1,0,0,1,30,13)\"></circle><circle cx=\"696.578125\" cy=\"37.015625\" r=\"5\" stroke=\"#000000\" fill=\"#ffffff\" id=\"drup_elem_5_endpoint_4\" style=\"stroke-width: 1; opacity: 0;\" class=\"endPoint left-up\" transform=\"matrix(1,0,0,1,30,13)\"></circle><circle cx=\"696.578125\" cy=\"105.015625\" r=\"5\" stroke=\"#000000\" fill=\"#ffffff\" id=\"drup_elem_5_endpoint_5\" style=\"stroke-width: 1; opacity: 0;\" class=\"endPoint left-down\" transform=\"matrix(1,0,0,1,30,13)\"></circle><circle cx=\"831.578125\" cy=\"37.015625\" r=\"5\" stroke=\"#000000\" fill=\"#ffffff\" id=\"drup_elem_5_endpoint_6\" style=\"stroke-width: 1; opacity: 0;\" class=\"endPoint right-up\" transform=\"matrix(1,0,0,1,30,13)\"></circle><circle cx=\"831.578125\" cy=\"105.015625\" r=\"5\" stroke=\"#000000\" fill=\"#ffffff\" id=\"drup_elem_5_endpoint_7\" style=\"stroke-width: 1; opacity: 0;\" class=\"endPoint right-down\" transform=\"matrix(1,0,0,1,30,13)\"></circle><text x=\"764.078125\" y=\"71.015625\" style=\"font-size: 20px;\" class=\"label\" transform=\"matrix(1,0,0,1,30,13)\"></text></g></svg>"
   ]
  },
  {
   "cell_type": "markdown",
   "metadata": {
    "slideshow": {
     "slide_type": "subslide"
    }
   },
   "source": [
    "## Wow!\n",
    "This is insane"
   ]
  },
  {
   "cell_type": "raw",
   "metadata": {
    "egal_id": "E766FD98133D41BD8E574C3327A2E73A",
    "hide_egal": true,
    "is_egal": true,
    "slideshow": {
     "slide_type": "slide"
    }
   },
   "source": [
    "<svg height=\"250\" width=\"100%\"><line x1=\"177.578125\" x2=\"463.578125\" y1=\"68.53125\" y2=\"72.03125\" stroke=\"#000000\" data-n1=\"drup_elem_1_endpoint_3\" style=\"marker-end: url(&quot;#markerSixhpdg6r23&quot;);\" class=\"drupElem\" data-n2=\"drup_elem_2_endpoint_2\"></line><desc>Created with Snap</desc><defs><filter id=\"Sixhpdg6r1z\" filterUnits=\"userSpaceOnUse\"><feGaussianBlur in=\"SourceAlpha\" stdDeviation=\"3\"></feGaussianBlur><feOffset dx=\"0\" dy=\"2\" result=\"offsetblur\"></feOffset><feFlood flood-color=\"#000000\"></feFlood><feComposite in2=\"offsetblur\" operator=\"in\"></feComposite><feComponentTransfer><feFuncA type=\"linear\" slope=\"1\"></feFuncA></feComponentTransfer><feMerge><feMergeNode></feMergeNode><feMergeNode in=\"SourceGraphic\"></feMergeNode></feMerge></filter><marker viewBox=\"0 0 10 10\" markerWidth=\"10\" markerHeight=\"10\" orient=\"auto\" refX=\"9\" refY=\"3\" id=\"markerSixhpdg6r23\"><polygon points=\"0,0,0,6,9,3,0,0\" fill=\"#323232\"></polygon></marker></defs><g id=\"drup_elem_1\" class=\"drupElem\"><rect x=\"97.578125\" y=\"34.03125\" width=\"80\" height=\"69\" fill=\"#ffffff\" stroke=\"#000000\" vector-effect=\"non-scaling-stroke\" style=\"stroke-width: 1;\" class=\"core\"></rect><circle cx=\"137.578125\" cy=\"34.03125\" r=\"5\" stroke=\"#000000\" fill=\"#ffffff\" id=\"drup_elem_1_endpoint_0\" style=\"stroke-width: 1; opacity: 0;\" class=\"endPoint up\"></circle><circle cx=\"137.578125\" cy=\"103.03125\" r=\"5\" stroke=\"#000000\" fill=\"#ffffff\" id=\"drup_elem_1_endpoint_1\" style=\"stroke-width: 1; opacity: 0;\" class=\"endPoint down\"></circle><circle cx=\"97.578125\" cy=\"68.53125\" r=\"5\" stroke=\"#000000\" fill=\"#ffffff\" id=\"drup_elem_1_endpoint_2\" style=\"stroke-width: 1; opacity: 0;\" class=\"endPoint left\"></circle><circle cx=\"177.578125\" cy=\"68.53125\" r=\"5\" stroke=\"#000000\" fill=\"#ffffff\" id=\"drup_elem_1_endpoint_3\" style=\"stroke-width: 1; opacity: 0;\" class=\"endPoint right\"></circle><circle cx=\"97.578125\" cy=\"34.03125\" r=\"5\" stroke=\"#000000\" fill=\"#ffffff\" id=\"drup_elem_1_endpoint_4\" style=\"stroke-width: 1; opacity: 0;\" class=\"endPoint left-up\"></circle><circle cx=\"97.578125\" cy=\"103.03125\" r=\"5\" stroke=\"#000000\" fill=\"#ffffff\" id=\"drup_elem_1_endpoint_5\" style=\"stroke-width: 1; opacity: 0;\" class=\"endPoint left-down\"></circle><circle cx=\"177.578125\" cy=\"34.03125\" r=\"5\" stroke=\"#000000\" fill=\"#ffffff\" id=\"drup_elem_1_endpoint_6\" style=\"stroke-width: 1; opacity: 0;\" class=\"endPoint right-up\"></circle><circle cx=\"177.578125\" cy=\"103.03125\" r=\"5\" stroke=\"#000000\" fill=\"#ffffff\" id=\"drup_elem_1_endpoint_7\" style=\"stroke-width: 1; opacity: 0;\" class=\"endPoint right-down\"></circle><text x=\"137.578125\" y=\"68.53125\" class=\"label\"></text></g><g id=\"drup_elem_2\" class=\"drupElem\"><rect x=\"463.578125\" y=\"42.03125\" width=\"95\" height=\"60\" fill=\"#ffffff\" stroke=\"#000000\" vector-effect=\"non-scaling-stroke\" style=\"stroke-width: 1;\" class=\"core\"></rect><circle cx=\"511.078125\" cy=\"42.03125\" r=\"5\" stroke=\"#000000\" fill=\"#ffffff\" id=\"drup_elem_2_endpoint_0\" style=\"stroke-width: 1; opacity: 0;\" class=\"endPoint up\"></circle><circle cx=\"511.078125\" cy=\"102.03125\" r=\"5\" stroke=\"#000000\" fill=\"#ffffff\" id=\"drup_elem_2_endpoint_1\" style=\"stroke-width: 1; opacity: 0;\" class=\"endPoint down\"></circle><circle cx=\"463.578125\" cy=\"72.03125\" r=\"5\" stroke=\"#000000\" fill=\"#ffffff\" id=\"drup_elem_2_endpoint_2\" style=\"stroke-width: 1; opacity: 0;\" class=\"endPoint left\"></circle><circle cx=\"558.578125\" cy=\"72.03125\" r=\"5\" stroke=\"#000000\" fill=\"#ffffff\" id=\"drup_elem_2_endpoint_3\" style=\"stroke-width: 1; opacity: 0;\" class=\"endPoint right\"></circle><circle cx=\"463.578125\" cy=\"42.03125\" r=\"5\" stroke=\"#000000\" fill=\"#ffffff\" id=\"drup_elem_2_endpoint_4\" style=\"stroke-width: 1; opacity: 0;\" class=\"endPoint left-up\"></circle><circle cx=\"463.578125\" cy=\"102.03125\" r=\"5\" stroke=\"#000000\" fill=\"#ffffff\" id=\"drup_elem_2_endpoint_5\" style=\"stroke-width: 1; opacity: 0;\" class=\"endPoint left-down\"></circle><circle cx=\"558.578125\" cy=\"42.03125\" r=\"5\" stroke=\"#000000\" fill=\"#ffffff\" id=\"drup_elem_2_endpoint_6\" style=\"stroke-width: 1; opacity: 0;\" class=\"endPoint right-up\"></circle><circle cx=\"558.578125\" cy=\"102.03125\" r=\"5\" stroke=\"#000000\" fill=\"#ffffff\" id=\"drup_elem_2_endpoint_7\" style=\"stroke-width: 1; opacity: 0;\" class=\"endPoint right-down\"></circle><text x=\"511.078125\" y=\"72.03125\" class=\"label\"></text></g></svg>"
   ]
  }
 ],
 "metadata": {
  "celltoolbar": "Slideshow",
  "kernelspec": {
   "display_name": "Python 3",
   "language": "python",
   "name": "python3"
  },
  "language_info": {
   "codemirror_mode": {
    "name": "ipython",
    "version": 3
   },
   "file_extension": ".py",
   "mimetype": "text/x-python",
   "name": "python",
   "nbconvert_exporter": "python",
   "pygments_lexer": "ipython3",
   "version": "3.5.1"
  }
 },
 "nbformat": 4,
 "nbformat_minor": 0
}
