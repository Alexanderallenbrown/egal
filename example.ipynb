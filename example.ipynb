{
 "cells": [
  {
   "cell_type": "markdown",
   "metadata": {
    "collapsed": false,
    "hide_input": false,
    "slideshow": {
     "slide_type": "slide"
    }
   },
   "source": [
    "# Example\n",
    "This is an example notebook with egal drawings."
   ]
  },
  {
   "cell_type": "raw",
   "metadata": {
    "egal_id": "CCC19D2AF81A499DBB79219EC2C02BED",
    "hide_egal": true,
    "is_egal": true,
    "slideshow": {
     "slide_type": "slide"
    }
   },
   "source": [
    "<svg height=\"230\" width=\"100%\"><line x1=\"155.578125\" x2=\"517.576325\" y1=\"78.515625\" y2=\"113.014325\" stroke=\"#000000\" data-n1=\"drup_elem_1_endpoint_3\" style=\"marker-end: url(&quot;#markerSixgmly5jm&quot;);\" data-n2=\"drup_elem_2_endpoint_2\"></line><desc>Created with Snap</desc><defs><filter id=\"Sixgmly5ji\" filterUnits=\"userSpaceOnUse\"><feGaussianBlur in=\"SourceAlpha\" stdDeviation=\"3\"></feGaussianBlur><feOffset dx=\"0\" dy=\"2\" result=\"offsetblur\"></feOffset><feFlood flood-color=\"#000000\"></feFlood><feComposite in2=\"offsetblur\" operator=\"in\"></feComposite><feComponentTransfer><feFuncA type=\"linear\" slope=\"1\"></feFuncA></feComponentTransfer><feMerge><feMergeNode></feMergeNode><feMergeNode in=\"SourceGraphic\"></feMergeNode></feMerge></filter><marker viewBox=\"0 0 10 10\" markerWidth=\"10\" markerHeight=\"10\" orient=\"auto\" refX=\"9\" refY=\"3\" id=\"markerSixgmly5jm\"><polygon points=\"0,0,0,6,9,3,0,0\" fill=\"#323232\"></polygon></marker><filter id=\"Sixgmnhgz3\" filterUnits=\"userSpaceOnUse\"><feGaussianBlur in=\"SourceAlpha\" stdDeviation=\"3\"></feGaussianBlur><feOffset dx=\"0\" dy=\"2\" result=\"offsetblur\"></feOffset><feFlood flood-color=\"#000000\"></feFlood><feComposite in2=\"offsetblur\" operator=\"in\"></feComposite><feComponentTransfer><feFuncA type=\"linear\" slope=\"1\"></feFuncA></feComponentTransfer><feMerge><feMergeNode></feMergeNode><feMergeNode in=\"SourceGraphic\"></feMergeNode></feMerge></filter><marker viewBox=\"0 0 10 10\" markerWidth=\"10\" markerHeight=\"10\" orient=\"auto\" refX=\"9\" refY=\"3\" id=\"markerSixgmnhgz7\"><polygon points=\"0,0,0,6,9,3,0,0\" fill=\"#323232\"></polygon></marker></defs><g id=\"drup_elem_1\" class=\"drupElem\"><rect x=\"105.578125\" y=\"39.015625\" width=\"117\" height=\"83\" fill=\"#ffa500\" stroke=\"#000000\" vector-effect=\"non-scaling-stroke\" style=\"stroke-width: 1;\" class=\"core\" transform=\"matrix(1,0,0,1,-67,-2)\"></rect><circle cx=\"164.078125\" cy=\"39.015625\" r=\"5\" stroke=\"#000000\" fill=\"#ffffff\" id=\"drup_elem_1_endpoint_0\" style=\"stroke-width: 1; opacity: 0;\" class=\"endPoint up\" transform=\"matrix(1,0,0,1,-67,-2)\"></circle><circle cx=\"164.078125\" cy=\"122.015625\" r=\"5\" stroke=\"#000000\" fill=\"#ffffff\" id=\"drup_elem_1_endpoint_1\" style=\"stroke-width: 1; opacity: 0;\" class=\"endPoint down\" transform=\"matrix(1,0,0,1,-67,-2)\"></circle><circle cx=\"105.578125\" cy=\"80.515625\" r=\"5\" stroke=\"#000000\" fill=\"#ffffff\" id=\"drup_elem_1_endpoint_2\" style=\"stroke-width: 1; opacity: 0;\" class=\"endPoint left\" transform=\"matrix(1,0,0,1,-67,-2)\"></circle><circle cx=\"222.578125\" cy=\"80.515625\" r=\"5\" stroke=\"#000000\" fill=\"#ffffff\" id=\"drup_elem_1_endpoint_3\" style=\"stroke-width: 1; opacity: 0;\" class=\"endPoint right\" transform=\"matrix(1,0,0,1,-67,-2)\"></circle><circle cx=\"105.578125\" cy=\"39.015625\" r=\"5\" stroke=\"#000000\" fill=\"#ffffff\" id=\"drup_elem_1_endpoint_4\" style=\"stroke-width: 1; opacity: 0;\" class=\"endPoint left-up\" transform=\"matrix(1,0,0,1,-67,-2)\"></circle><circle cx=\"105.578125\" cy=\"122.015625\" r=\"5\" stroke=\"#000000\" fill=\"#ffffff\" id=\"drup_elem_1_endpoint_5\" style=\"stroke-width: 1; opacity: 0;\" class=\"endPoint left-down\" transform=\"matrix(1,0,0,1,-67,-2)\"></circle><circle cx=\"222.578125\" cy=\"39.015625\" r=\"5\" stroke=\"#000000\" fill=\"#ffffff\" id=\"drup_elem_1_endpoint_6\" style=\"stroke-width: 1; opacity: 0;\" class=\"endPoint right-up\" transform=\"matrix(1,0,0,1,-67,-2)\"></circle><circle cx=\"222.578125\" cy=\"122.015625\" r=\"5\" stroke=\"#000000\" fill=\"#ffffff\" id=\"drup_elem_1_endpoint_7\" style=\"stroke-width: 1; opacity: 0;\" class=\"endPoint right-down\" transform=\"matrix(1,0,0,1,-67,-2)\"></circle></g><g id=\"drup_elem_2\" class=\"drupElem\"><circle cx=\"385.578125\" cy=\"182.015625\" r=\"56\" vector-effect=\"non-scaling-stroke\" fill=\"#ffffff\" stroke=\"#000000\" style=\"stroke-width: 1;\" class=\"core\" transform=\"matrix(1.25,0,0,1.3572,105.6226,-134.0115)\"></circle><circle cx=\"385.578125\" cy=\"126.015625\" r=\"5\" stroke=\"#000000\" fill=\"#ffffff\" id=\"drup_elem_2_endpoint_0\" style=\"stroke-width: 1; opacity: 0;\" class=\"endPoint up\" transform=\"matrix(1,0,0,1,201.9957,-89.0026)\"></circle><circle cx=\"385.578125\" cy=\"238.015625\" r=\"5\" stroke=\"#000000\" fill=\"#ffffff\" id=\"drup_elem_2_endpoint_1\" style=\"stroke-width: 1; opacity: 0;\" class=\"endPoint down\" transform=\"matrix(1,0,0,1,201.9957,-48.9998)\"></circle><circle cx=\"329.578125\" cy=\"182.015625\" r=\"5\" stroke=\"#000000\" fill=\"#ffffff\" id=\"drup_elem_2_endpoint_2\" style=\"stroke-width: 1; opacity: 0;\" class=\"endPoint left\" transform=\"matrix(1,0,0,1,187.9982,-69.0013)\"></circle><circle cx=\"441.578125\" cy=\"182.015625\" r=\"5\" stroke=\"#000000\" fill=\"#ffffff\" id=\"drup_elem_2_endpoint_3\" style=\"stroke-width: 1; opacity: 0;\" class=\"endPoint right\" transform=\"matrix(1,0,0,1,215.9932,-69.0013)\"></circle></g></svg>"
   ]
  },
  {
   "cell_type": "markdown",
   "metadata": {
    "slideshow": {
     "slide_type": "subslide"
    }
   },
   "source": [
    "## Wow!\n",
    "This is insane"
   ]
  },
  {
   "cell_type": "raw",
   "metadata": {
    "egal_id": "6A025BE804BE4DE6B1862B0971982520",
    "hide_egal": true,
    "is_egal": true
   },
   "source": [
    "<svg height=\"250\" width=\"100%\"><line x1=\"360.578125\" x2=\"770.578125\" y1=\"63.53125\" y2=\"60.53125\" stroke=\"#000000\" data-n1=\"drup_elem_3_endpoint_3\" style=\"marker-end: url(&quot;#markerSixgmnhgz15&quot;);\" data-n2=\"drup_elem_4_endpoint_2\"></line><desc>Created with Snap</desc><defs><filter id=\"Sixgmnhgz11\" filterUnits=\"userSpaceOnUse\"><feGaussianBlur in=\"SourceAlpha\" stdDeviation=\"3\"></feGaussianBlur><feOffset dx=\"0\" dy=\"2\" result=\"offsetblur\"></feOffset><feFlood flood-color=\"#000000\"></feFlood><feComposite in2=\"offsetblur\" operator=\"in\"></feComposite><feComponentTransfer><feFuncA type=\"linear\" slope=\"1\"></feFuncA></feComponentTransfer><feMerge><feMergeNode></feMergeNode><feMergeNode in=\"SourceGraphic\"></feMergeNode></feMerge></filter><marker viewBox=\"0 0 10 10\" markerWidth=\"10\" markerHeight=\"10\" orient=\"auto\" refX=\"9\" refY=\"3\" id=\"markerSixgmnhgz15\"><polygon points=\"0,0,0,6,9,3,0,0\" fill=\"#323232\"></polygon></marker></defs><g id=\"drup_elem_2\" class=\"drupElem\"><text x=\"171.578125\" y=\"107.03125\" class=\"core\" style=\"font-size: 20px;\" transform=\"matrix(1,0,0,1,-23,62)\">What is going on?</text></g><g id=\"drup_elem_3\" class=\"drupElem\"><rect x=\"146.578125\" y=\"34.03125\" width=\"177\" height=\"95\" fill=\"#ffffff\" stroke=\"#000000\" vector-effect=\"non-scaling-stroke\" style=\"stroke-width: 1;\" class=\"core\" transform=\"matrix(1,0,0,1,37,-18)\"></rect><circle cx=\"235.078125\" cy=\"34.03125\" r=\"5\" stroke=\"#000000\" fill=\"#ffffff\" id=\"drup_elem_3_endpoint_0\" style=\"stroke-width: 1; opacity: 0;\" class=\"endPoint up\" transform=\"matrix(1,0,0,1,37,-18)\"></circle><circle cx=\"235.078125\" cy=\"129.03125\" r=\"5\" stroke=\"#000000\" fill=\"#ffffff\" id=\"drup_elem_3_endpoint_1\" style=\"stroke-width: 1; opacity: 0;\" class=\"endPoint down\" transform=\"matrix(1,0,0,1,37,-18)\"></circle><circle cx=\"146.578125\" cy=\"81.53125\" r=\"5\" stroke=\"#000000\" fill=\"#ffffff\" id=\"drup_elem_3_endpoint_2\" style=\"stroke-width: 1; opacity: 0;\" class=\"endPoint left\" transform=\"matrix(1,0,0,1,37,-18)\"></circle><circle cx=\"323.578125\" cy=\"81.53125\" r=\"5\" stroke=\"#000000\" fill=\"#ffffff\" id=\"drup_elem_3_endpoint_3\" style=\"stroke-width: 1; opacity: 0;\" class=\"endPoint right\" transform=\"matrix(1,0,0,1,37,-18)\"></circle><circle cx=\"146.578125\" cy=\"34.03125\" r=\"5\" stroke=\"#000000\" fill=\"#ffffff\" id=\"drup_elem_3_endpoint_4\" style=\"stroke-width: 1; opacity: 0;\" class=\"endPoint left-up\" transform=\"matrix(1,0,0,1,37,-18)\"></circle><circle cx=\"146.578125\" cy=\"129.03125\" r=\"5\" stroke=\"#000000\" fill=\"#ffffff\" id=\"drup_elem_3_endpoint_5\" style=\"stroke-width: 1; opacity: 0;\" class=\"endPoint left-down\" transform=\"matrix(1,0,0,1,37,-18)\"></circle><circle cx=\"323.578125\" cy=\"34.03125\" r=\"5\" stroke=\"#000000\" fill=\"#ffffff\" id=\"drup_elem_3_endpoint_6\" style=\"stroke-width: 1; opacity: 0;\" class=\"endPoint right-up\" transform=\"matrix(1,0,0,1,37,-18)\"></circle><circle cx=\"323.578125\" cy=\"129.03125\" r=\"5\" stroke=\"#000000\" fill=\"#ffffff\" id=\"drup_elem_3_endpoint_7\" style=\"stroke-width: 1; opacity: 0;\" class=\"endPoint right-down\" transform=\"matrix(1,0,0,1,37,-18)\"></circle></g><g id=\"drup_elem_4\" class=\"drupElem\"><rect x=\"215.578125\" y=\"2.03125\" width=\"170\" height=\"69\" fill=\"#d3d3d3\" stroke=\"#000000\" vector-effect=\"non-scaling-stroke\" style=\"stroke-width: 1;\" class=\"core\" transform=\"matrix(1,0,0,1,555,24)\"></rect><circle cx=\"300.578125\" cy=\"2.03125\" r=\"5\" stroke=\"#000000\" fill=\"#ffffff\" id=\"drup_elem_4_endpoint_0\" style=\"stroke-width: 1; opacity: 0;\" class=\"endPoint up\" transform=\"matrix(1,0,0,1,555,24)\"></circle><circle cx=\"300.578125\" cy=\"71.03125\" r=\"5\" stroke=\"#000000\" fill=\"#ffffff\" id=\"drup_elem_4_endpoint_1\" style=\"stroke-width: 1; opacity: 0;\" class=\"endPoint down\" transform=\"matrix(1,0,0,1,555,24)\"></circle><circle cx=\"215.578125\" cy=\"36.53125\" r=\"5\" stroke=\"#000000\" fill=\"#ffffff\" id=\"drup_elem_4_endpoint_2\" style=\"stroke-width: 1; opacity: 0;\" class=\"endPoint left\" transform=\"matrix(1,0,0,1,555,24)\"></circle><circle cx=\"385.578125\" cy=\"36.53125\" r=\"5\" stroke=\"#000000\" fill=\"#ffffff\" id=\"drup_elem_4_endpoint_3\" style=\"stroke-width: 1; opacity: 0;\" class=\"endPoint right\" transform=\"matrix(1,0,0,1,555,24)\"></circle><circle cx=\"215.578125\" cy=\"2.03125\" r=\"5\" stroke=\"#000000\" fill=\"#ffffff\" id=\"drup_elem_4_endpoint_4\" style=\"stroke-width: 1; opacity: 0;\" class=\"endPoint left-up\" transform=\"matrix(1,0,0,1,555,24)\"></circle><circle cx=\"215.578125\" cy=\"71.03125\" r=\"5\" stroke=\"#000000\" fill=\"#ffffff\" id=\"drup_elem_4_endpoint_5\" style=\"stroke-width: 1; opacity: 0;\" class=\"endPoint left-down\" transform=\"matrix(1,0,0,1,555,24)\"></circle><circle cx=\"385.578125\" cy=\"2.03125\" r=\"5\" stroke=\"#000000\" fill=\"#ffffff\" id=\"drup_elem_4_endpoint_6\" style=\"stroke-width: 1; opacity: 0;\" class=\"endPoint right-up\" transform=\"matrix(1,0,0,1,555,24)\"></circle><circle cx=\"385.578125\" cy=\"71.03125\" r=\"5\" stroke=\"#000000\" fill=\"#ffffff\" id=\"drup_elem_4_endpoint_7\" style=\"stroke-width: 1; opacity: 0;\" class=\"endPoint right-down\" transform=\"matrix(1,0,0,1,555,24)\"></circle></g><g id=\"drup_elem_6\" class=\"drupElem\"><text x=\"309.578125\" y=\"163.03125\" class=\"core\" style=\"font-size: 20px;\" transform=\"matrix(1,0,0,1,505,-96)\">Nothing</text></g></svg>"
   ]
  }
 ],
 "metadata": {
  "celltoolbar": "Slideshow",
  "kernelspec": {
   "display_name": "Python 3",
   "language": "python",
   "name": "python3"
  },
  "language_info": {
   "codemirror_mode": {
    "name": "ipython",
    "version": 3
   },
   "file_extension": ".py",
   "mimetype": "text/x-python",
   "name": "python",
   "nbconvert_exporter": "python",
   "pygments_lexer": "ipython3",
   "version": "3.5.1"
  }
 },
 "nbformat": 4,
 "nbformat_minor": 0
}
