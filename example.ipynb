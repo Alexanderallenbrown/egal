{
 "cells": [
  {
   "cell_type": "markdown",
   "metadata": {
    "collapsed": false,
    "hide_input": false,
    "slideshow": {
     "slide_type": "slide"
    }
   },
   "source": [
    "# Example\n",
    "This is an example notebook with egal drawings."
   ]
  },
  {
   "cell_type": "raw",
   "metadata": {
    "egal_id": "83553AAB92C74544BD0E60B394FD7D6B",
    "is_egal": true
   },
   "source": []
  },
  {
   "cell_type": "markdown",
   "metadata": {},
   "source": [
    "## Wow!\n",
    "This is insane"
   ]
  },
  {
   "cell_type": "raw",
   "metadata": {
    "egal_id": "625B18EE894D4CED84EE6B62C6B6062D",
    "is_egal": true
   },
   "source": []
  }
 ],
 "metadata": {
  "kernelspec": {
   "display_name": "Python 3",
   "language": "python",
   "name": "python3"
  },
  "language_info": {
   "codemirror_mode": {
    "name": "ipython",
    "version": 3
   },
   "file_extension": ".py",
   "mimetype": "text/x-python",
   "name": "python",
   "nbconvert_exporter": "python",
   "pygments_lexer": "ipython3",
   "version": "3.5.1"
  }
 },
 "nbformat": 4,
 "nbformat_minor": 0
}
